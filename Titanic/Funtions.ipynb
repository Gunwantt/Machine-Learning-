{
 "cells": [
  {
   "cell_type": "code",
   "execution_count": null,
   "id": "b3584f2c",
   "metadata": {},
   "outputs": [],
   "source": [
    "def result(true, pred):\n",
    "    print(f'Confusion matrix :\\n{confusion_matrix(true, pred)}\\n\\nAccuracy score : {round(accuracy_score(true, pred),2)}\\nPrecision : {round(precision_score(true, pred),2)}\\nRecall : {round(recall_score(true, pred),2)}')\n",
    "\n",
    "def plot_roc(true, pred, name):\n",
    "    prob = pred[:, 1]\n",
    "    auc = roc_auc_score(true, prob)\n",
    "    fpr, tpr, _ = roc_curve(true, prob)\n",
    "    random_prob = [0 for _ in range(len(true))]\n",
    "    random_auc = roc_auc_score(true, random_prob)\n",
    "    random_fpr, random_tpr, __ = roc_curve(true, random_prob)\n",
    "    plt.figure(figsize=(7,5))\n",
    "    plt.plot(fpr, tpr, label = f'{name} : (AURUC = {round(auc,2)})')\n",
    "    plt.plot(random_fpr, random_tpr, label = f'Random Prediction : (AURUC = {round(random_auc,2)})')\n",
    "    plt.title('ROC curve', fontsize=14)\n",
    "    plt.xlabel('False Positive Rate', fontsize=13)\n",
    "    plt.ylabel('True Positive Rate', fontsize=13)\n",
    "    plt.legend(loc=4, fontsize=12, handlelength = 2) "
   ]
  }
 ],
 "metadata": {
  "kernelspec": {
   "display_name": "Python 3 (ipykernel)",
   "language": "python",
   "name": "python3"
  },
  "language_info": {
   "codemirror_mode": {
    "name": "ipython",
    "version": 3
   },
   "file_extension": ".py",
   "mimetype": "text/x-python",
   "name": "python",
   "nbconvert_exporter": "python",
   "pygments_lexer": "ipython3",
   "version": "3.9.7"
  }
 },
 "nbformat": 4,
 "nbformat_minor": 5
}
